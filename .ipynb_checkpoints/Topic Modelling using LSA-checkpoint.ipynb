{
 "cells": [
  {
   "cell_type": "markdown",
   "id": "93230f13",
   "metadata": {},
   "source": [
    "# Topic Modelling using LSA"
   ]
  },
  {
   "cell_type": "markdown",
   "id": "d4eb4411",
   "metadata": {},
   "source": [
    "Algoritma LSA (Latent Semantic Analysis) adalah salah satu algoritma yang dapat digunakan untuk menganalisa hubungan antara sebuah frase/kalimat dengan sekumpulan dokumen."
   ]
  },
  {
   "cell_type": "markdown",
   "id": "2f6b0479",
   "metadata": {},
   "source": [
    "Pada program ini akan menggunakan data abstrak dari portal tugas akhir trunojoyo program studi Teknik Informatika (https://pta.trunojoyo.ac.id/c_search/byprod/10), berikut code untuk melakukan crawling data:"
   ]
  },
  {
   "cell_type": "code",
   "execution_count": null,
   "id": "e46f5f8c",
   "metadata": {},
   "outputs": [],
   "source": [
    "// install library\n",
    "pip install beautifulsoup4"
   ]
  },
  {
   "cell_type": "code",
   "execution_count": null,
   "id": "9ad5e6f0",
   "metadata": {},
   "outputs": [],
   "source": []
  }
 ],
 "metadata": {
  "kernelspec": {
   "display_name": "Python 3 (ipykernel)",
   "language": "python",
   "name": "python3"
  },
  "language_info": {
   "codemirror_mode": {
    "name": "ipython",
    "version": 3
   },
   "file_extension": ".py",
   "mimetype": "text/x-python",
   "name": "python",
   "nbconvert_exporter": "python",
   "pygments_lexer": "ipython3",
   "version": "3.10.2"
  }
 },
 "nbformat": 4,
 "nbformat_minor": 5
}
